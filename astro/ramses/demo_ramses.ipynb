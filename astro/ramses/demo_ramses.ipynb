{
 "cells": [
  {
   "cell_type": "markdown",
   "id": "604c8c4d-27ef-4ef1-8738-38449a60994e",
   "metadata": {},
   "source": [
    "## Simulate a 2D Sedov Blast Wave\n",
    "\n",
    "The following steps create an MPI cluster and then use the Ramses astrophysical MHD code to compute the Sedov-Taylor blast wave, a popular demonstration problem in fluid mechanics.\n",
    "After the output is generated, the analysis tools provided with the Ramses code are used to plot a pseudocolor plot of the 2D results\n",
    "\n",
    "### Spin-Up MPI cluster\n",
    "\n",
    "The first step is to import Camber and initialize the MPI cluster:"
   ]
  },
  {
   "cell_type": "code",
   "execution_count": 1,
   "id": "7f5b9da7-5e14-442e-805f-abf79c416337",
   "metadata": {
    "tags": []
   },
   "outputs": [],
   "source": [
    "import camber"
   ]
  },
  {
   "cell_type": "markdown",
   "id": "52a67651-c602-4f4c-84da-290454b9735c",
   "metadata": {},
   "source": [
    "Next, download the public Ramses repo if you do not already have it in your local directory"
   ]
  },
  {
   "cell_type": "code",
   "execution_count": 2,
   "id": "6cac400d-7361-4c9d-9644-2d7be62993ed",
   "metadata": {
    "tags": []
   },
   "outputs": [
    {
     "name": "stdout",
     "output_type": "stream",
     "text": [
      "Cloning into 'ramses'...\n",
      "remote: Enumerating objects: 24808, done.\u001b[K\n",
      "remote: Counting objects: 100% (1217/1217), done.\u001b[K\n",
      "remote: Compressing objects: 100% (690/690), done.\u001b[K\n",
      "remote: Total 24808 (delta 485), reused 1086 (delta 460), pack-reused 23591 (from 1)\u001b[K\n",
      "Receiving objects: 100% (24808/24808), 98.93 MiB | 40.57 MiB/s, done.\n",
      "Resolving deltas: 100% (16416/16416), done.\n",
      "Updating files: 100% (976/976), done.\n"
     ]
    }
   ],
   "source": [
    "!git clone https://github.com/ramses-organisation/ramses.git"
   ]
  },
  {
   "cell_type": "code",
   "execution_count": 3,
   "id": "93062b6d-af88-4539-b0a9-ba377dc34a56",
   "metadata": {
    "tags": []
   },
   "outputs": [],
   "source": [
    "# import some python packages and Ramses modules\n",
    "import matplotlib.pyplot as plt\n",
    "import numpy as np\n",
    "import ramses.utils.py.ramses_io as ram"
   ]
  },
  {
   "cell_type": "markdown",
   "id": "8c241012-51ec-4ccf-940b-c403d7018504",
   "metadata": {
    "tags": []
   },
   "source": [
    "Now create an MPI job to compile `Ramses`.\n",
    "This step ensures the code compiles with the correct MPI environment:"
   ]
  },
  {
   "cell_type": "code",
   "execution_count": 4,
   "id": "98e5c356-6ea7-4aa5-b294-4eede97d3e6a",
   "metadata": {
    "tags": []
   },
   "outputs": [],
   "source": [
    "compile_job = camber.mpi.create_job(\n",
    "    command=\"cd ramses/bin && make clean && make NDIM=2 MPI=1\",\n",
    "    engine_size=\"SMALL\"\n",
    ")"
   ]
  },
  {
   "cell_type": "markdown",
   "id": "a3b32ec2-3a5a-4056-b2db-b0e99f887870",
   "metadata": {},
   "source": [
    "Check the `compile_job` output to monitor the job status"
   ]
  },
  {
   "cell_type": "code",
   "execution_count": 8,
   "id": "a91f3ada-02a3-4c7e-aac7-de8a9a12a636",
   "metadata": {
    "tags": []
   },
   "outputs": [
    {
     "data": {
      "text/plain": [
       "CamberJob({\"job_id\": 7224, \"status\": \"COMPLETED\", \"engine_size\": \"SMALL\", \"engine_type\": \"MPI\", \"command\": \"cd ramses/bin && make clean && make NDIM=2 MPI=1\", \"with_gpu\": false})"
      ]
     },
     "execution_count": 8,
     "metadata": {},
     "output_type": "execute_result"
    }
   ],
   "source": [
    "compile_job"
   ]
  },
  {
   "cell_type": "markdown",
   "id": "fb0f462e-0916-4d9c-809e-b44f7b01000d",
   "metadata": {},
   "source": [
    "Once the job status turns to `COMPLETED`, use `read_logs()` to check the output:"
   ]
  },
  {
   "cell_type": "code",
   "execution_count": 9,
   "id": "8e2db419-2a71-4245-b0a7-ad0fbaee67b0",
   "metadata": {
    "tags": []
   },
   "outputs": [
    {
     "name": "stdout",
     "output_type": "stream",
     "text": [
      "mpif90 -ffree-line-length-none -fimplicit-none -O3 -cpp -DNVECTOR=32 -DNDIM=2 -DNPRE=8 -DNENER=0 -DNVAR=2+2+0+0+0 -DSOLVERhydro -c ../poisson/output_poisson.f90 -o output_poisson.o\n",
      "mpif90 -ffree-line-length-none -fimplicit-none -O3 -cpp -DNVECTOR=32 -DNDIM=2 -DNPRE=8 -DNENER=0 -DNVAR=2+2+0+0+0 -DSOLVERhydro -c ../amr/ramses.f90 -o ramses.o\n",
      "mpif90 -ffree-line-length-none -fimplicit-none -O3 mpi_mod.o amr_parameters.o amr_commons.o random.o pm_parameters.o sink_feedback_parameters.o pm_commons.o poisson_parameters.o dump_utils.o constants.o file_module.o poisson_commons.o hydro_parameters.o hydro_commons.o cooling_module.o bisection.o sparse_mat.o clfind_commons.o gadgetreadfile.o write_makefile.o write_patch.o write_gitinfo.o sink_sn_feedback.o read_params.o init_amr.o init_time.o init_refine.o tracer_utils.o adaptive_loop.o amr_step.o update_time.o output_amr.o flag_utils.o physical_boundaries.o virtual_boundaries.o refine_utils.o nbors_utils.o hilbert.o load_balance.o title.o sort.o cooling_fine.o eos.o units.o light_cone.o movie.o memory.o end.o init_hydro.o init_flow_fine.o write_screen.o output_hydro.o courant_fine.o godunov_fine.o uplmde.o umuscl.o interpol_hydro.o godunov_utils.o condinit.o hydro_flag.o hydro_boundary.o boundana.o read_hydro_params.o synchro_hydro_fine.o cooling_module_ism.o init_part.o output_part.o rho_fine.o synchro_fine.o move_fine.o newdt_fine.o particle_tree.o add_list.o remove_list.o star_formation.o sink_particle.o feedback.o clump_finder.o clump_merger.o output_clump.o flag_formation_sites.o init_sink.o output_sink.o unbinding.o merger_tree.o move_tracer.o init_tracer.o read_sink_feedback_params.o sink_rt_feedback.o stellar_particle.o init_stellar.o output_stellar.o init_poisson.o phi_fine_cg.o interpol_phi.o force_fine.o multigrid_coarse.o multigrid_fine_commons.o multigrid_fine_fine.o multigrid_fine_coarse.o gravana.o boundary_potential.o rho_ana.o output_poisson.o ramses.o -o ramses2d\n",
      "rm write_makefile.f90\n",
      "rm write_patch.f90"
     ]
    }
   ],
   "source": [
    "compile_job.read_logs(tail_lines=5)"
   ]
  },
  {
   "cell_type": "markdown",
   "id": "67c9badf-4899-4e32-ad5a-9c9e934da46b",
   "metadata": {},
   "source": [
    "### Run the MPI job\n",
    "\n",
    "After compilation finishes, use the create_job method to start the Sedov-Taylor simulation using the Ramses binary and appropriate input file:"
   ]
  },
  {
   "cell_type": "code",
   "execution_count": 10,
   "id": "89f68967-7f60-4ca0-9024-dc2e88d84ca4",
   "metadata": {
    "tags": []
   },
   "outputs": [],
   "source": [
    "# run on camber with a medium instance\n",
    "run_job = camber.mpi.create_job(\n",
    "    command=\"mpirun -np 16 ramses/bin/ramses2d ramses/namelist/sedov2d.nml\",\n",
    "    engine_size=\"MEDIUM\"\n",
    ")"
   ]
  },
  {
   "cell_type": "code",
   "execution_count": 15,
   "id": "816ad39f-6dae-46b0-87cd-0faf7c9fa275",
   "metadata": {
    "tags": []
   },
   "outputs": [
    {
     "data": {
      "text/plain": [
       "CamberJob({\"job_id\": 7225, \"status\": \"COMPLETED\", \"engine_size\": \"MEDIUM\", \"engine_type\": \"MPI\", \"command\": \"mpirun -np 16 ramses/bin/ramses2d ramses/namelist/sedov2d.nml\", \"with_gpu\": false})"
      ]
     },
     "execution_count": 15,
     "metadata": {},
     "output_type": "execute_result"
    }
   ],
   "source": [
    "# check job status\n",
    "run_job"
   ]
  },
  {
   "cell_type": "code",
   "execution_count": 16,
   "id": "cd927b81-22b4-401e-83c1-f4d716724619",
   "metadata": {
    "tags": []
   },
   "outputs": [],
   "source": [
    "# you can write the output to a file with the job number\n",
    "run_job.download_log()"
   ]
  },
  {
   "cell_type": "code",
   "execution_count": 17,
   "id": "990efc42-162c-4ef6-b7ac-3842e72a0e53",
   "metadata": {
    "tags": []
   },
   "outputs": [
    {
     "name": "stdout",
     "output_type": "stream",
     "text": [
      " Level  8 has       1832 grids (      82,     155,     114,)\n",
      " Level  9 has       3311 grids (     160,     247,     206,)\n",
      " Level 10 has       4652 grids (     192,     365,     290,)\n",
      " Main step=   1483 mcons= 0.00E+00 econs= 1.11E-16 epot= 0.00E+00 ekin= 2.50E-01\n",
      " Fine step=   2966 t= 1.00066E+00 dt= 7.496E-04 a= 1.000E+00 mem= 1.3%\n",
      " Run completed\n",
      " Total elapsed time:   4.7743098250000005\n",
      " --------------------------------------------------------------------\n",
      "\n",
      "     minimum       average       maximum  standard dev        std/av       %   rmn   rmx  TIMER\n",
      "       0.429         0.430         0.430         0.000         0.001     8.8    11   1    coarse levels\n",
      "       0.845         0.849         0.868         0.005         0.006    17.4     1  16    refine\n",
      "       0.531         0.531         0.532         0.000         0.000    10.9     9  16    load balance\n",
      "       0.009         0.012         0.018         0.002         0.167     0.3     9  16    particles\n",
      "       0.190         0.190         0.195         0.001         0.007     3.9    10   1    io\n",
      "       0.132         0.137         0.143         0.003         0.020     2.8     9  16    courant\n",
      "       0.025         0.028         0.046         0.005         0.174     0.6    16   1    hydro - set unew\n",
      "       1.035         1.142         1.247         0.056         0.049    23.4     1  10    hydro - godunov\n",
      "       0.695         0.799         0.923         0.058         0.073    16.4    10   1    hydro - rev ghostzones\n",
      "       0.014         0.016         0.023         0.002         0.120     0.3     1   4    hydro - set uold\n",
      "       0.022         0.023         0.025         0.001         0.034     0.5    16   9    hydro upload fine\n",
      "       0.231         0.294         0.323         0.022         0.073     6.0    16   3    hydro - ghostzones\n",
      "       0.401         0.425         0.430         0.007         0.017     8.7    16   5    flag\n",
      "       4.882     100.0    TOTAL\n",
      "Note: The following floating-point exceptions are signalling: IEEE_UNDERFLOW_FLAG IEEE_DENORMAL\n",
      "Note: The following floating-point exceptions are signalling: IEEE_UNDERFLOW_FLAG IEEE_DENORMAL\n",
      "Note: The following floating-point exceptions are signalling: IEEE_UNDERFLOW_FLAG IEEE_DENORMAL\n",
      "Note: The following floating-point exceptions are signalling: IEEE_UNDERFLOW_FLAG IEEE_DENORMAL\n",
      "Note: The following floating-point exceptions are signalling: IEEE_UNDERFLOW_FLAG IEEE_DENORMAL\n",
      "Note: The following floating-point exceptions are signalling: IEEE_UNDERFLOW_FLAG IEEE_DENORMAL\n",
      "Note: The following floating-point exceptions are signalling: IEEE_UNDERFLOW_FLAG IEEE_DENORMAL\n",
      "Note: The following floating-point exceptions are signalling: IEEE_UNDERFLOW_FLAG IEEE_DENORMAL\n",
      "Note: The following floating-point exceptions are signalling: IEEE_UNDERFLOW_FLAG IEEE_DENORMAL\n",
      "Note: The following floating-point exceptions are signalling: IEEE_UNDERFLOW_FLAG IEEE_DENORMAL\n",
      "Note: The following floating-point exceptions are signalling: IEEE_UNDERFLOW_FLAG IEEE_DENORMAL\n",
      "Note: The following floating-point exceptions are signalling: IEEE_UNDERFLOW_FLAG IEEE_DENORMAL\n",
      "Note: The following floating-point exceptions are signalling: IEEE_UNDERFLOW_FLAG IEEE_DENORMAL\n",
      "Note: The following floating-point exceptions are signalling: IEEE_UNDERFLOW_FLAG IEEE_DENORMAL\n",
      "Note: The following floating-point exceptions are signalling: IEEE_UNDERFLOW_FLAG IEEE_DENORMAL\n",
      "Note: The following floating-point exceptions are signalling: IEEE_UNDERFLOW_FLAG IEEE_DENORMAL"
     ]
    }
   ],
   "source": [
    "# or you can view it in the notebook\n",
    "run_job.read_logs(tail_lines=40)"
   ]
  },
  {
   "cell_type": "markdown",
   "id": "626a7780-bbd6-4356-a465-52ae0577b7a5",
   "metadata": {},
   "source": [
    "Now use Ramses' built-in utilities to analyze the simulations results in the notebook"
   ]
  },
  {
   "cell_type": "code",
   "execution_count": 18,
   "id": "b56f09e7-6b81-4f7e-8ed2-500df260ddb6",
   "metadata": {
    "tags": []
   },
   "outputs": [
    {
     "name": "stdout",
     "output_type": "stream",
     "text": [
      "gfortran -w -ffree-line-length-none -std=f2008 -Ofast -Wall -x f95-cpp-input -c random.f90 -o random.o\n",
      "gfortran -w -ffree-line-length-none -std=f2008 -Ofast -Wall -x f95-cpp-input -c utils.f90 -o utils.o\n",
      "gfortran -w -ffree-line-length-none -std=f2008 -Ofast -Wall -x f95-cpp-input -c io_ramses.f90 -o io_ramses.o\n",
      "gfortran -w -ffree-line-length-none -std=f2008 -Ofast -Wall -x f95-cpp-input -c amr2prof.f90 -o amr2prof.o\n",
      "gfortran  random.o utils.o io_ramses.o amr2prof.o -o ./amr2prof\n",
      "gfortran -w -ffree-line-length-none -std=f2008 -Ofast -Wall -x f95-cpp-input -c amr2cylprof.f90 -o amr2cylprof.o\n",
      "gfortran  random.o utils.o io_ramses.o amr2cylprof.o -o ./amr2cylprof\n",
      "gfortran -w -ffree-line-length-none -std=f2008 -Ofast -Wall -x f95-cpp-input -c ramses2tipsy.f90 -o ramses2tipsy.o\n",
      "gfortran  random.o utils.o io_ramses.o ramses2tipsy.o -o ./ramses2tipsy\n",
      "gfortran -w -ffree-line-length-none -std=f2008 -Ofast -Wall -x f95-cpp-input -c amr2map.f90 -o amr2map.o\n",
      "gfortran  random.o utils.o io_ramses.o amr2map.o -o ./amr2map\n",
      "gfortran -w -ffree-line-length-none -std=f2008 -Ofast -Wall -x f95-cpp-input -c part2map.f90 -o part2map.o\n",
      "gfortran  random.o utils.o io_ramses.o part2map.o -o ./part2map\n",
      "gfortran -w -ffree-line-length-none -std=f2008 -Ofast -Wall -x f95-cpp-input -c part2prof.f90 -o part2prof.o\n",
      "gfortran  random.o utils.o io_ramses.o part2prof.o -o ./part2prof\n",
      "gfortran -w -ffree-line-length-none -std=f2008 -Ofast -Wall -x f95-cpp-input -c part2cube.f90 -o part2cube.o\n",
      "gfortran  random.o utils.o io_ramses.o part2cube.o -o ./part2cube\n",
      "gfortran  random.o utils.o io_ramses.o part2list.f90 -o ./part2list\n",
      "gfortran  random.o utils.o io_ramses.o partcenter.f90 -o ./partcenter\n",
      "gfortran  random.o utils.o io_ramses.o part2birth.f90 -o ./part2birth\n",
      "gfortran  random.o utils.o io_ramses.o part2sfr.f90 -o ./part2sfr\n",
      "gfortran  random.o utils.o io_ramses.o getstarlist.f90 -o ./getstarlist\n",
      "gfortran -w -ffree-line-length-none -std=f2008 -Ofast -Wall -x f95-cpp-input -c part2cylprof.f90 -o part2cylprof.o\n",
      "gfortran  part2cylprof.o -o ./part2cylprof\n",
      "/home/shane/ramses\n"
     ]
    }
   ],
   "source": [
    "# cd to ramses/utils/f90, compile utils, and return to current directory\n",
    "!cd ramses/utils/f90 && make && cd -"
   ]
  },
  {
   "cell_type": "code",
   "execution_count": 20,
   "id": "40de1ab3-69f4-4ff2-8bbe-8ef86ca6e0a9",
   "metadata": {
    "tags": []
   },
   "outputs": [
    {
     "name": "stdout",
     "output_type": "stream",
     "text": [
      "   1.00000000       1.00000000       1.00000000    \n",
      " ordering type=             hilbert\n",
      " time=   1.0006641445982500     \n",
      " Working resolution =        1024\n",
      " Processing file output_00002/amr_00002.out00001\n",
      " Processing file output_00002/amr_00002.out00002\n",
      " Processing file output_00002/amr_00002.out00003\n",
      " Processing file output_00002/amr_00002.out00004\n",
      " Processing file output_00002/amr_00002.out00005\n",
      " Processing file output_00002/amr_00002.out00006\n",
      " Processing file output_00002/amr_00002.out00007\n",
      " Processing file output_00002/amr_00002.out00008\n",
      " Processing file output_00002/amr_00002.out00009\n",
      " Processing file output_00002/amr_00002.out00010\n",
      " Processing file output_00002/amr_00002.out00011\n",
      " Processing file output_00002/amr_00002.out00012\n",
      " Processing file output_00002/amr_00002.out00013\n",
      " Processing file output_00002/amr_00002.out00014\n",
      " Processing file output_00002/amr_00002.out00015\n",
      " Processing file output_00002/amr_00002.out00016\n",
      " max value (code units)=   19.120367253027784     \n",
      " Norm=   1.0000000000002158     \n",
      " Ecriture des donnees du fichier dens.map\n"
     ]
    }
   ],
   "source": [
    "# run amr2map to generate the 2d density map\n",
    "!ramses/utils/f90/amr2map -inp output_00002 -out dens.map -typ 1"
   ]
  },
  {
   "cell_type": "markdown",
   "id": "32081e53-b37e-41fc-b162-21d54f6b9ab5",
   "metadata": {
    "tags": []
   },
   "source": [
    "Now generate a 2D plot of the results"
   ]
  },
  {
   "cell_type": "code",
   "execution_count": 23,
   "id": "2e32316b-33bf-4643-8c35-8caafef31d0c",
   "metadata": {
    "tags": []
   },
   "outputs": [
    {
     "data": {
      "text/plain": [
       "Text(0.5, 1.0, 'log density')"
      ]
     },
     "execution_count": 23,
     "metadata": {},
     "output_type": "execute_result"
    },
    {
     "data": {
      "image/png": "[encoded data removed]",
      "text/plain": [
       "<Figure size 640x480 with 1 Axes>"
      ]
     },
     "metadata": {},
     "output_type": "display_data"
    }
   ],
   "source": [
    "d=ram.rd_map(\"dens.map\")\n",
    "plt.imshow(np.log(d.data), origin=\"lower\", cmap='inferno')\n",
    "plt.title(\"log density\")"
   ]
  },
  {
   "cell_type": "code",
   "execution_count": null,
   "id": "7ba0bf52-75d9-42b6-b80a-05e51e22f016",
   "metadata": {},
   "outputs": [],
   "source": []
  }
 ],
 "metadata": {
  "kernelspec": {
   "display_name": "PyCamber",
   "language": "python",
   "name": "python3"
  },
  "language_info": {
   "codemirror_mode": {
    "name": "ipython",
    "version": 3
   },
   "file_extension": ".py",
   "mimetype": "text/x-python",
   "name": "python",
   "nbconvert_exporter": "python",
   "pygments_lexer": "ipython3",
   "version": "3.10.10"
  }
 },
 "nbformat": 4,
 "nbformat_minor": 5
}
